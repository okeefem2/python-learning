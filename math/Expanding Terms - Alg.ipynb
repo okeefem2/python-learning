{
 "cells": [
  {
   "cell_type": "code",
   "execution_count": 1,
   "metadata": {},
   "outputs": [],
   "source": [
    "import sympy as sym\n",
    "from IPython.display import display,Math"
   ]
  },
  {
   "cell_type": "code",
   "execution_count": 9,
   "metadata": {},
   "outputs": [
    {
     "name": "stdout",
     "output_type": "stream",
     "text": [
      "x*(4*x + 5)\n",
      "4*x**2 + 5*x\n"
     ]
    },
    {
     "data": {
      "text/latex": [
       "$\\displaystyle 4 x^{2} + 5 x$"
      ],
      "text/plain": [
       "<IPython.core.display.Math object>"
      ]
     },
     "metadata": {},
     "output_type": "display_data"
    }
   ],
   "source": [
    "from sympy.abc import x, y # Only works for single letter vars\n",
    "\n",
    "term1 = (4*x + 5)\n",
    "term2 = x\n",
    "\n",
    "print(term1 * term2)\n",
    "print(sym.expand(term1 * term2)) # 4x**2 + 5x\n",
    "display(Math(sym.latex(sym.expand(term1 * term2))))"
   ]
  },
  {
   "cell_type": "code",
   "execution_count": 7,
   "metadata": {},
   "outputs": [
    {
     "data": {
      "text/latex": [
       "$\\displaystyle \\left(x - 7\\right) \\left(4 x + 5\\right)$"
      ],
      "text/plain": [
       "<IPython.core.display.Math object>"
      ]
     },
     "metadata": {},
     "output_type": "display_data"
    },
    {
     "data": {
      "text/latex": [
       "$\\displaystyle 4 x^{2} - 23 x - 35$"
      ],
      "text/plain": [
       "<IPython.core.display.Math object>"
      ]
     },
     "metadata": {},
     "output_type": "display_data"
    }
   ],
   "source": [
    "term3 = x - 7\n",
    "display(Math(sym.latex(term1 * term3)))\n",
    "display(Math(sym.latex(sym.expand(term1 * term3))))"
   ]
  },
  {
   "cell_type": "code",
   "execution_count": 14,
   "metadata": {},
   "outputs": [
    {
     "name": "stdout",
     "output_type": "stream",
     "text": [
      "When x=0 and y=0, f(x,y)=8\n",
      "When x=0 and y=1, f(x,y)=4\n",
      "When x=0 and y=2, f(x,y)=0\n",
      "When x=1 and y=0, f(x,y)=10\n",
      "When x=1 and y=1, f(x,y)=5\n",
      "When x=1 and y=2, f(x,y)=0\n",
      "When x=2 and y=0, f(x,y)=12\n",
      "When x=2 and y=1, f(x,y)=6\n",
      "When x=2 and y=2, f(x,y)=0\n"
     ]
    }
   ],
   "source": [
    "fxy = (4 + x) * (2 - y)\n",
    "\n",
    "\n",
    "for xi in range(0, 3):\n",
    "    for yi in range(0,3):  \n",
    "        print('When x=%g and y=%g, f(x,y)=%g' % (xi, yi, fxy.subs({ x: xi, y: yi})))"
   ]
  },
  {
   "cell_type": "code",
   "execution_count": null,
   "metadata": {},
   "outputs": [],
   "source": []
  }
 ],
 "metadata": {
  "kernelspec": {
   "display_name": "Python 3",
   "language": "python",
   "name": "python3"
  },
  "language_info": {
   "codemirror_mode": {
    "name": "ipython",
    "version": 3
   },
   "file_extension": ".py",
   "mimetype": "text/x-python",
   "name": "python",
   "nbconvert_exporter": "python",
   "pygments_lexer": "ipython3",
   "version": "3.7.2"
  }
 },
 "nbformat": 4,
 "nbformat_minor": 4
}
